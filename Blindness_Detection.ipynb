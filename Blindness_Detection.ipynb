{
  "cells": [
    {
      "cell_type": "markdown",
      "metadata": {
        "id": "view-in-github",
        "colab_type": "text"
      },
      "source": [
        "<a href=\"https://colab.research.google.com/github/Pooja-dotc/Blindness_Detection_CodeClauseInternship/blob/main/Blindness_Detection.ipynb\" target=\"_parent\"><img src=\"https://colab.research.google.com/assets/colab-badge.svg\" alt=\"Open In Colab\"/></a>"
      ]
    },
    {
      "cell_type": "code",
      "execution_count": null,
      "id": "71ff7167",
      "metadata": {
        "id": "71ff7167"
      },
      "outputs": [],
      "source": [
        "import cv2\n",
        "import numpy as np\n",
        "\n",
        "def detect_redeye(image_path):\n",
        "    image = cv2.imread(image_path)\n",
        "    gray = cv2.cvtColor(image, cv2.COLOR_BGR2GRAY)\n",
        "\n",
        "    # Detect faces in the image\n",
        "    face_cascade = cv2.CascadeClassifier(cv2.data.haarcascades + 'haarcascade_frontalface_default.xml')\n",
        "    faces = face_cascade.detectMultiScale(gray, scaleFactor=1.1, minNeighbors=5, minSize=(30, 30))\n",
        "\n",
        "    for (x, y, w, h) in faces:\n",
        "        face = image[y:y+h, x:x+w]\n",
        "        hsv = cv2.cvtColor(face, cv2.COLOR_BGR2HSV)\n",
        "\n",
        "        # Define the range of red color in HSV\n",
        "        lower_red = np.array([0, 100, 100])\n",
        "        upper_red = np.array([10, 255, 255])\n",
        "\n",
        "        # Create a mask to isolate red regions in the face\n",
        "        mask = cv2.inRange(hsv, lower_red, upper_red)\n",
        "\n",
        "        # Apply a median blur to the mask to reduce noise\n",
        "        mask = cv2.medianBlur(mask, 5)\n",
        "\n",
        "        # Apply the mask to the face to detect red-eye effect\n",
        "        detected_eye = cv2.bitwise_and(face, face, mask=mask)\n",
        "\n",
        "        cv2.imshow(\"Red Eye Detection\", detected_eye)\n",
        "\n",
        "    cv2.waitKey(0)\n",
        "    cv2.destroyAllWindows()\n",
        "\n",
        "# Replace \"image_path.jpg\" with the path to your image\n",
        "detect_redeye(\"C:/Users/kriti/OneDrive/Pictures/d681b1e8da9a975dbf76ade6203a58bc.jpg\")\n"
      ]
    },
    {
      "cell_type": "code",
      "execution_count": null,
      "id": "de70128b",
      "metadata": {
        "id": "de70128b"
      },
      "outputs": [],
      "source": []
    }
  ],
  "metadata": {
    "kernelspec": {
      "display_name": "Python 3 (ipykernel)",
      "language": "python",
      "name": "python3"
    },
    "language_info": {
      "codemirror_mode": {
        "name": "ipython",
        "version": 3
      },
      "file_extension": ".py",
      "mimetype": "text/x-python",
      "name": "python",
      "nbconvert_exporter": "python",
      "pygments_lexer": "ipython3",
      "version": "3.9.13"
    },
    "colab": {
      "provenance": [],
      "include_colab_link": true
    }
  },
  "nbformat": 4,
  "nbformat_minor": 5
}